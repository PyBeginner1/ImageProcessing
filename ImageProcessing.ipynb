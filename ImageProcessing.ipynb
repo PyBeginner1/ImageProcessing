{
  "nbformat": 4,
  "nbformat_minor": 0,
  "metadata": {
    "colab": {
      "name": "ImageProcessing.ipynb",
      "provenance": [],
      "collapsed_sections": [],
      "authorship_tag": "ABX9TyMGl9v1FilozpFG0Qv4W8Yj",
      "include_colab_link": true
    },
    "kernelspec": {
      "name": "python3",
      "display_name": "Python 3"
    },
    "language_info": {
      "name": "python"
    }
  },
  "cells": [
    {
      "cell_type": "markdown",
      "metadata": {
        "id": "view-in-github",
        "colab_type": "text"
      },
      "source": [
        "<a href=\"https://colab.research.google.com/github/PyBeginner1/ImageProcessing/blob/main/ImageProcessing.ipynb\" target=\"_parent\"><img src=\"https://colab.research.google.com/assets/colab-badge.svg\" alt=\"Open In Colab\"/></a>"
      ]
    },
    {
      "cell_type": "code",
      "metadata": {
        "colab": {
          "base_uri": "https://localhost:8080/"
        },
        "id": "KOXbxF59qTFF",
        "outputId": "29f870b9-07f9-4c6b-8a12-5b399509a889"
      },
      "source": [
        "from google.colab import drive\n",
        "drive.mount('/content/drive')"
      ],
      "execution_count": null,
      "outputs": [
        {
          "output_type": "stream",
          "text": [
            "Mounted at /content/drive\n"
          ],
          "name": "stdout"
        }
      ]
    },
    {
      "cell_type": "code",
      "metadata": {
        "id": "zgSl5545q_qo"
      },
      "source": [
        "image_o='/content/drive/My Drive/o.png'\n",
        "image_x='/content/drive/My Drive/x.png'"
      ],
      "execution_count": null,
      "outputs": []
    },
    {
      "cell_type": "code",
      "metadata": {
        "colab": {
          "base_uri": "https://localhost:8080/",
          "height": 273
        },
        "id": "hgnnB0UosYER",
        "outputId": "f42cf767-c0b3-439d-f904-c19d834cf790"
      },
      "source": [
        "from PIL import Image, ImageChops, ImageFilter\n",
        "\n",
        "o=Image.open(image_o)\n",
        "\n",
        "o"
      ],
      "execution_count": null,
      "outputs": [
        {
          "output_type": "execute_result",
          "data": {
            "image/png": "[encoded data removed]",
            "text/plain": [
              "<PIL.PngImagePlugin.PngImageFile image mode=RGB size=256x256 at 0x7FCE43B2D8D0>"
            ]
          },
          "metadata": {
            "tags": []
          },
          "execution_count": 14
        }
      ]
    },
    {
      "cell_type": "code",
      "metadata": {
        "colab": {
          "base_uri": "https://localhost:8080/",
          "height": 273
        },
        "id": "t032bex8thhb",
        "outputId": "731c118c-a403-4838-f02f-bb21492ed9bf"
      },
      "source": [
        "x=Image.open(image_x)\n",
        "\n",
        "x"
      ],
      "execution_count": null,
      "outputs": [
        {
          "output_type": "execute_result",
          "data": {
            "image/png": "[encoded data removed]",
            "text/plain": [
              "<PIL.PngImagePlugin.PngImageFile image mode=RGB size=256x256 at 0x7FCE3DED4AD0>"
            ]
          },
          "metadata": {
            "tags": []
          },
          "execution_count": 18
        }
      ]
    },
    {
      "cell_type": "code",
      "metadata": {
        "colab": {
          "base_uri": "https://localhost:8080/"
        },
        "id": "1iiPkAg_tyYS",
        "outputId": "9139b4d6-26f9-45d9-8b84-174e8c1b9ebe"
      },
      "source": [
        "print(\"Size of the Image O:\", o.size , 'Colour Mode=' , o.mode)\n",
        "print(\"Size of the Image X:\" , x.size , \"Colour Mode=\", x.mode)"
      ],
      "execution_count": null,
      "outputs": [
        {
          "output_type": "stream",
          "text": [
            "Size of the Image O: (256, 256) Colour Mode= RGB\n",
            "Size of the Image X: (256, 256) Colour Mode= RGB\n"
          ],
          "name": "stdout"
        }
      ]
    },
    {
      "cell_type": "code",
      "metadata": {
        "colab": {
          "base_uri": "https://localhost:8080/",
          "height": 201
        },
        "id": "Y42JnQ6OvAXi",
        "outputId": "be262423-f67d-4587-c59f-e3f5354d92d2"
      },
      "source": [
        "#bring images one beside the other for comaprison between two\n",
        "from matplotlib import pyplot as plt\n",
        "\n",
        "plt.subplot(121)\n",
        "plt.imshow(x)\n",
        "plt.axis('off')\n",
        "plt.subplot(122)\n",
        "plt.imshow(o)\n",
        "plt.axis('off')\n"
      ],
      "execution_count": null,
      "outputs": [
        {
          "output_type": "execute_result",
          "data": {
            "text/plain": [
              "(-0.5, 255.5, 255.5, -0.5)"
            ]
          },
          "metadata": {
            "tags": []
          },
          "execution_count": 33
        },
        {
          "output_type": "display_data",
          "data": {
            "image/png": "[encoded data removed]",
            "text/plain": [
              "<Figure size 432x288 with 2 Axes>"
            ]
          },
          "metadata": {
            "tags": [],
            "needs_background": "light"
          }
        }
      ]
    },
    {
      "cell_type": "code",
      "metadata": {
        "colab": {
          "base_uri": "https://localhost:8080/",
          "height": 273
        },
        "id": "VM-YD5dXwnOq",
        "outputId": "086405cd-2666-40d9-eba5-c4aa9267f21d"
      },
      "source": [
        "#merge 2 images with multiply\n",
        "merge = ImageChops.multiply(x,o)\n",
        "merge\n",
        "\n",
        "greyscale=merge.convert('L')\n",
        "greyscale"
      ],
      "execution_count": null,
      "outputs": [
        {
          "output_type": "execute_result",
          "data": {
            "image/png": "[encoded data removed]",
            "text/plain": [
              "<PIL.Image.Image image mode=L size=256x256 at 0x7FCE394582D0>"
            ]
          },
          "metadata": {
            "tags": []
          },
          "execution_count": 57
        }
      ]
    },
    {
      "cell_type": "code",
      "metadata": {
        "colab": {
          "base_uri": "https://localhost:8080/",
          "height": 273
        },
        "id": "iiltugM7xllo",
        "outputId": "bd0b421b-16c5-4d9b-cf97-5d9b4193ec5e"
      },
      "source": [
        "#now we'll use add\n",
        "add= ImageChops.add(x,o)    #add displays the intersection points\n",
        "add"
      ],
      "execution_count": null,
      "outputs": [
        {
          "output_type": "execute_result",
          "data": {
            "image/png": "[encoded data removed]",
            "text/plain": [
              "<PIL.Image.Image image mode=RGB size=256x256 at 0x7FCE3D1B6610>"
            ]
          },
          "metadata": {
            "tags": []
          },
          "execution_count": 35
        }
      ]
    },
    {
      "cell_type": "code",
      "metadata": {
        "colab": {
          "base_uri": "https://localhost:8080/",
          "height": 273
        },
        "id": "DNdPegGmx0bG",
        "outputId": "40bdd7e9-db1d-4efe-9862-8b4bbcd30304"
      },
      "source": [
        "white = merge.convert('1')\n",
        "white"
      ],
      "execution_count": null,
      "outputs": [
        {
          "output_type": "execute_result",
          "data": {
            "image/png": "[encoded data removed]",
            "text/plain": [
              "<PIL.Image.Image image mode=1 size=256x256 at 0x7FCE3D1F8CD0>"
            ]
          },
          "metadata": {
            "tags": []
          },
          "execution_count": 39
        }
      ]
    },
    {
      "cell_type": "code",
      "metadata": {
        "colab": {
          "base_uri": "https://localhost:8080/",
          "height": 273
        },
        "id": "87fSvsY70XmB",
        "outputId": "43ee1d97-10b5-4c6f-8486-8e3ef315397b"
      },
      "source": [
        "#to tackle above prob \n",
        "pixel = greyscale.load()\n",
        "\n",
        "#a nested loop to parse through all the pixels in the image\n",
        "for row in range(greyscale.size[0]):\n",
        "  for column in range(greyscale.size[1]):\n",
        "    if pixel[row, column] != (255):             #if pixel color is not white(255) the display black(0)\n",
        "      pixel[row,column] = (0)\n",
        "\n",
        "greyscale"
      ],
      "execution_count": null,
      "outputs": [
        {
          "output_type": "execute_result",
          "data": {
            "image/png": "[encoded data removed]",
            "text/plain": [
              "<PIL.Image.Image image mode=L size=256x256 at 0x7FCE394582D0>"
            ]
          },
          "metadata": {
            "tags": []
          },
          "execution_count": 61
        }
      ]
    },
    {
      "cell_type": "code",
      "metadata": {
        "id": "5eDhcSLL4KWn"
      },
      "source": [
        ""
      ],
      "execution_count": null,
      "outputs": []
    },
    {
      "cell_type": "code",
      "metadata": {
        "colab": {
          "base_uri": "https://localhost:8080/",
          "height": 273
        },
        "id": "GL0uaCwR3JiG",
        "outputId": "f5894c8b-41cf-4812-f3b6-8c361157e650"
      },
      "source": [
        "#display half in black\n",
        "pixel = greyscale.load()\n",
        "\n",
        "#a nested loop to parse through all the pixels in the image\n",
        "for row in range(greyscale.size[0]):\n",
        "  for column in range(greyscale.size[1]):\n",
        "    if pixel[row, column] != (255) and row > 128:             #if pixel color is not white(255) the display black(0)\n",
        "      pixel[row,column] = (0)\n",
        "\n",
        "greyscale"
      ],
      "execution_count": null,
      "outputs": [
        {
          "output_type": "execute_result",
          "data": {
            "image/png": "[encoded data removed]",
            "text/plain": [
              "<PIL.Image.Image image mode=L size=256x256 at 0x7FCE394582D0>"
            ]
          },
          "metadata": {
            "tags": []
          },
          "execution_count": 58
        }
      ]
    },
    {
      "cell_type": "code",
      "metadata": {
        "colab": {
          "base_uri": "https://localhost:8080/",
          "height": 273
        },
        "id": "1zw5UZV34Z6P",
        "outputId": "a5b88197-2261-4f4a-a1a8-0d0f79b577ed"
      },
      "source": [
        "#invert the image\n",
        "invert = ImageChops.invert(greyscale)\n",
        "invert"
      ],
      "execution_count": null,
      "outputs": [
        {
          "output_type": "execute_result",
          "data": {
            "image/png": "[encoded data removed]",
            "text/plain": [
              "<PIL.Image.Image image mode=L size=256x256 at 0x7FCE39439B90>"
            ]
          },
          "metadata": {
            "tags": []
          },
          "execution_count": 62
        }
      ]
    },
    {
      "cell_type": "code",
      "metadata": {
        "colab": {
          "base_uri": "https://localhost:8080/",
          "height": 273
        },
        "id": "Sjkd4Od057xR",
        "outputId": "1c5a90e0-e246-45fb-e497-5aaa8a34930d"
      },
      "source": [
        "#rotate\n",
        "rotate=invert.rotate(45)\n",
        "rotate"
      ],
      "execution_count": null,
      "outputs": [
        {
          "output_type": "execute_result",
          "data": {
            "image/png": "[encoded data removed]",
            "text/plain": [
              "<PIL.Image.Image image mode=L size=256x256 at 0x7FCE3D1A5E50>"
            ]
          },
          "metadata": {
            "tags": []
          },
          "execution_count": 63
        }
      ]
    },
    {
      "cell_type": "code",
      "metadata": {
        "colab": {
          "base_uri": "https://localhost:8080/",
          "height": 273
        },
        "id": "gsSoXisB7oop",
        "outputId": "400b6415-2fd3-41d6-aa3d-6b28112a997b"
      },
      "source": [
        "#gaussian blur\n",
        "blur = greyscale.filter(ImageFilter.GaussianBlur(radius=1))\n",
        "blur"
      ],
      "execution_count": null,
      "outputs": [
        {
          "output_type": "execute_result",
          "data": {
            "image/png": "[encoded data removed]",
            "text/plain": [
              "<PIL.Image.Image image mode=L size=256x256 at 0x7FCE39A2E290>"
            ]
          },
          "metadata": {
            "tags": []
          },
          "execution_count": 65
        }
      ]
    },
    {
      "cell_type": "code",
      "metadata": {
        "colab": {
          "base_uri": "https://localhost:8080/",
          "height": 273
        },
        "id": "YM85LxzO8pkQ",
        "outputId": "56703395-5c2e-4d2d-ef80-7ec685d97a5c"
      },
      "source": [
        "#find edges\n",
        "edges = blur.filter(ImageFilter.FIND_EDGES)\n",
        "edges"
      ],
      "execution_count": null,
      "outputs": [
        {
          "output_type": "execute_result",
          "data": {
            "image/png": "[encoded data removed]",
            "text/plain": [
              "<PIL.Image.Image image mode=L size=256x256 at 0x7FCE39A2E150>"
            ]
          },
          "metadata": {
            "tags": []
          },
          "execution_count": 66
        }
      ]
    }
  ]
}